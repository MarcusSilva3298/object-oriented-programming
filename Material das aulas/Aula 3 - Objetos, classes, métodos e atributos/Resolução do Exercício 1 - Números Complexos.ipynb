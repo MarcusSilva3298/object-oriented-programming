{
 "cells": [
  {
   "cell_type": "markdown",
   "metadata": {},
   "source": [
    "# Implementação da classe Complexo\n",
    " * Uso dos métodos ```__str__``` e ```__and__```\n",
    " * Parâmetros com valores default\n",
    " * Uso do operador ternário   \n",
    " * ```==``` vs ``` is ```"
   ]
  },
  {
   "cell_type": "code",
   "execution_count": null,
   "metadata": {},
   "outputs": [],
   "source": [
    "#Implementação da classe Complexo\n",
    "  \n",
    "import math\n",
    "\n",
    "class Complexo:\n",
    "    '''Representação de um número complexo'''\n",
    "\n",
    "    def __init__(self, real=0.0, img=0.0):\n",
    "        '''Inicialização da parte imaginária e da parte real'''\n",
    "        self.real = real\n",
    "        self.img = img\n",
    "\n",
    "    def __str__(self):\n",
    "        '''De complexo a String'''\n",
    "        # Uso do operador ternário \n",
    "        sinal = '-' if self.img < 0 else '+'\n",
    "        return f'{self.real} {sinal} {math.fabs(self.img)}i'\n",
    "\n",
    "    def modulo(self):\n",
    "        '''modulo = sqrt(real ** 2 , img ** 2)'''\n",
    "        return math.sqrt(self.real **2 + self.img ** 2)\n",
    "\n",
    "    def reset(self):\n",
    "        '''zerar a arte real e a parte imaginária '''\n",
    "        self.real = 0\n",
    "        self.img = 0\n",
    "\n",
    "    def incrementar(self):\n",
    "        '''incrementar a parte real'''\n",
    "        self.real += 1\n",
    "\n",
    "    def conjugado(self):\n",
    "        '''retorna o complexo (real , -1 * img)'''\n",
    "        return Complexo(self.real , -1 * self.img)\n",
    "\n",
    "    def soma(self, outro):\n",
    "        '''retorna self + outro'''\n",
    "        return Complexo(self.real + outro.real , self.img + outro.img)\n",
    "    \n",
    "    def __add__(self, outro):\n",
    "        '''utilizar a notação c1 + c2'''\n",
    "        return self.soma(outro)\n",
    "\n",
    "    def __eq__(self, outro):\n",
    "        '''Retorna verdadeiro se os dois números são iguais (parte real e parte imaginária)'''\n",
    "        if type(outro)== Complexo:\n",
    "            return self.real == outro.real and self.img == outro.img\n",
    "        else:\n",
    "            return False\n"
   ]
  },
  {
   "cell_type": "code",
   "execution_count": null,
   "metadata": {},
   "outputs": [],
   "source": [
    "# Testes\n",
    "c = Complexo() #Sem parâmetros\n",
    "print(c)\n",
    "c1 = Complexo(3,2)\n",
    "print(c1.modulo())\n",
    "c.incrementar()\n",
    "print(c)\n",
    "c3 = c1.conjugado()\n",
    "print(c3)\n",
    "c4 = c1 + c3\n",
    "print (f'({c1}) + ({c3}) = ({c4})')\n",
    "\n",
    "c5 = Complexo(2,2)\n",
    "c5.incrementar()\n",
    "print(c1==c5) #Eles são iguais (do ponto do vista dos valores)\n",
    "print(c1 is c5) # mas eles são referências a objetos diferentes\n",
    "\n",
    "print (c1 == c1) # Mesmos valores\n",
    "print (c1 is c1) # A mesma referencia"
   ]
  },
  {
   "cell_type": "code",
   "execution_count": null,
   "metadata": {},
   "outputs": [],
   "source": []
  }
 ],
 "metadata": {
  "kernelspec": {
   "display_name": "Python 3",
   "language": "python",
   "name": "python3"
  },
  "language_info": {
   "codemirror_mode": {
    "name": "ipython",
    "version": 3
   },
   "file_extension": ".py",
   "mimetype": "text/x-python",
   "name": "python",
   "nbconvert_exporter": "python",
   "pygments_lexer": "ipython3",
   "version": "3.7.3"
  }
 },
 "nbformat": 4,
 "nbformat_minor": 4
}
